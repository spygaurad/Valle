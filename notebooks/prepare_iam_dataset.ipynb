{
  "cells": [
    {
      "cell_type": "code",
      "execution_count": null,
      "metadata": {
        "id": "_eUre40Bauzu"
      },
      "outputs": [],
      "source": [
        "import os\n",
        "import re\n",
        "\n",
        "import cv2\n",
        "import numpy as np\n",
        "import pandas as pd"
      ]
    },
    {
      "cell_type": "code",
      "source": [
        "!unzip input.zip"
      ],
      "metadata": {
        "id": "OTJrKeWVcBSK"
      },
      "execution_count": null,
      "outputs": []
    },
    {
      "cell_type": "code",
      "source": [
        "# for i in $(find ../lines -type f -name \"*.png\"); do echo $i; cp $i ./;done"
      ],
      "metadata": {
        "id": "KijZpzOKuOxP"
      },
      "execution_count": null,
      "outputs": []
    },
    {
      "cell_type": "markdown",
      "metadata": {
        "id": "8NjawncZauz5"
      },
      "source": [
        "1. Download dataset from https://fki.tic.heia-fr.ch/databases/iam-handwriting-database. (ascii, lines, split-indexes)\n",
        "2. Create root directory '../input/iam'\n",
        "3. Put dataset into the root directory and unzip it "
      ]
    },
    {
      "cell_type": "code",
      "execution_count": null,
      "metadata": {
        "id": "7lPMBY2kauz_"
      },
      "outputs": [],
      "source": [
        "ROOT = f'./input/iam'"
      ]
    },
    {
      "cell_type": "code",
      "execution_count": null,
      "metadata": {
        "id": "paQW1RgRau0C"
      },
      "outputs": [],
      "source": [
        "# train_ids = [line.strip() for line in open(f'{ROOT}/trainset.txt').readlines()]\n",
        "# valid1_ids = [line.strip() for line in open(f'{ROOT}/validationset1.txt').readlines()]\n",
        "# valid2_ids = [line.strip() for line in open(f'{ROOT}/validationset2.txt').readlines()]\n",
        "# test_ids = [line.strip() for line in open(f'{ROOT}/testset.txt').readlines()]\n",
        "\n",
        "train_ids = [line.strip() for line in open(f'{ROOT}/train.txt').readlines()]\n",
        "valid1_ids = [line.strip() for line in open(f'{ROOT}/valid.txt').readlines()]\n",
        "valid2_ids = [line.strip() for line in open(f'{ROOT}/valid.txt').readlines()]\n",
        "test_ids = [line.strip() for line in open(f'{ROOT}/test.txt').readlines()]\n",
        "\n",
        "def get_stage(image_id):\n",
        "    if image_id in train_ids:\n",
        "        return 'train'\n",
        "    if image_id in valid1_ids:\n",
        "        return 'valid'\n",
        "    if image_id in valid2_ids:\n",
        "        return 'valid'\n",
        "    if image_id in test_ids:\n",
        "        return 'test'\n",
        "    return 'unknown'"
      ]
    },
    {
      "cell_type": "code",
      "source": [
        "print(len(train_ids))\n",
        "print(len(valid1_ids))\n",
        "print(len(valid2_ids))\n",
        "print(len(test_ids))"
      ],
      "metadata": {
        "id": "ra5EbXl-cl1s"
      },
      "execution_count": null,
      "outputs": []
    },
    {
      "cell_type": "code",
      "execution_count": null,
      "metadata": {
        "id": "UYDh7Bm8au0I"
      },
      "outputs": [],
      "source": [
        "dataset = []\n",
        "\n",
        "\n",
        "for line in open(f'{ROOT}/ascii/lines.txt').readlines():\n",
        "    line = line.strip()\n",
        "    if line.startswith('#'):\n",
        "        print(line)\n",
        "        continue\n",
        "        \n",
        "    sample_id, text = re.findall(\n",
        "        r'([\\S]+)\\s\\w+\\s\\d+\\s\\d+\\s\\d+\\s\\d+\\s\\d+\\s\\d+\\s([\\w\\W]+)',\n",
        "        line\n",
        "    )[0]\n",
        "    folder, subfolder, _ = sample_id.split('-')\n",
        "    subfolder = f'{folder}-{subfolder}'\n",
        "    \n",
        "    dataset.append({\n",
        "        'sample_id': sample_id,\n",
        "        'text': text.replace('|', ' ').strip(),\n",
        "        'path': f'iam/images/{folder}/{subfolder}/{sample_id}.png',\n",
        "        'stage': get_stage(sample_id),\n",
        "    })"
      ]
    },
    {
      "cell_type": "code",
      "source": [
        "!mkdir dataset"
      ],
      "metadata": {
        "id": "Fy_kb_Jxt6Vb"
      },
      "execution_count": null,
      "outputs": []
    },
    {
      "cell_type": "code",
      "source": [
        "# !zip -r dataset.zip dataset"
      ],
      "metadata": {
        "id": "0ZO42RRcvKMX"
      },
      "execution_count": null,
      "outputs": []
    },
    {
      "cell_type": "code",
      "execution_count": null,
      "metadata": {
        "id": "LpQULN78au0O"
      },
      "outputs": [],
      "source": [
        "marking = pd.DataFrame(dataset).set_index('sample_id')\n",
        "marking[:3]"
      ]
    },
    {
      "cell_type": "code",
      "execution_count": null,
      "metadata": {
        "id": "nU-T1NYxau0X"
      },
      "outputs": [],
      "source": [
        "marking['stage'].value_counts()"
      ]
    },
    {
      "cell_type": "code",
      "source": [
        "train_dataset = []\n",
        "eval_dataset = []\n",
        "test_dataset = []\n",
        "unkown_dataset = []\n",
        "\n",
        "for index, row in marking.iterrows():\n",
        "\n",
        "    # print(index)\n",
        "    # print(row)\n",
        "    # break\n",
        "    \n",
        "    text = row['text']\n",
        "    stage = row['stage']\n",
        "    image_name = row['path'].split(\"/\")[-1]\n",
        "    font_type = row['path'].split(\"/\")[-2]\n",
        "    \n",
        "    if stage == 'train':\n",
        "        train_dataset.append({\n",
        "            'image': image_name,\n",
        "            'font_type': font_type,\n",
        "            'text': text\n",
        "        })\n",
        "    elif stage == 'valid':\n",
        "        eval_dataset.append({\n",
        "            'image': image_name,\n",
        "            'font_type': font_type,\n",
        "            'text': text\n",
        "        })\n",
        "    elif stage == 'test':\n",
        "        test_dataset.append({\n",
        "        'image': image_name,\n",
        "        'font_type': font_type,\n",
        "        'text': text\n",
        "    })\n",
        "    elif stage == 'unknown':\n",
        "        unkown_dataset.append({\n",
        "        'image': image_name,\n",
        "        'font_type': font_type,\n",
        "        'text': text\n",
        "    })\n",
        "    \n"
      ],
      "metadata": {
        "id": "cWG4SvJpskXX"
      },
      "execution_count": null,
      "outputs": []
    },
    {
      "cell_type": "code",
      "source": [
        "print(len(train_dataset))\n",
        "print(len(eval_dataset))\n",
        "print(len(test_dataset))\n",
        "print(len(unkown_dataset))"
      ],
      "metadata": {
        "id": "pLiqRIeBtpMb"
      },
      "execution_count": null,
      "outputs": []
    },
    {
      "cell_type": "code",
      "source": [
        "!mkdir dataset"
      ],
      "metadata": {
        "id": "A7B3wKFpu0gu"
      },
      "execution_count": null,
      "outputs": []
    },
    {
      "cell_type": "code",
      "source": [
        "train_df = pd.DataFrame.from_dict(train_dataset)\n",
        "train_df.to_csv(\"./dataset/train.csv\", index=False)\n",
        "\n",
        "eval_df = pd.DataFrame.from_dict(eval_dataset)\n",
        "eval_df.to_csv(\"./dataset/eval.csv\", index=False)\n",
        "\n",
        "test_df = pd.DataFrame.from_dict(test_dataset)\n",
        "test_df.to_csv(\"./dataset/test.csv\", index=False)\n",
        "\n",
        "unknown_df = pd.DataFrame.from_dict(unkown_dataset)\n",
        "unknown_df.to_csv(\"./dataset/unknown.csv\", index=False)\n",
        "\n",
        "marking.to_csv('./dataset/marking.csv')"
      ],
      "metadata": {
        "id": "63wxn_Vzt-B4"
      },
      "execution_count": null,
      "outputs": []
    },
    {
      "cell_type": "code",
      "source": [
        "!zip -r dataset.zip dataset"
      ],
      "metadata": {
        "id": "H_By30PDk0D0"
      },
      "execution_count": null,
      "outputs": []
    },
    {
      "cell_type": "code",
      "source": [],
      "metadata": {
        "id": "kxXTtM438p6g"
      },
      "execution_count": null,
      "outputs": []
    }
  ],
  "metadata": {
    "kernelspec": {
      "display_name": "Python 3.6.9 64-bit ('venv')",
      "language": "python",
      "name": "python36964bitvenv412d6d365efa499da3aee218430cdcc1"
    },
    "language_info": {
      "codemirror_mode": {
        "name": "ipython",
        "version": 3
      },
      "file_extension": ".py",
      "mimetype": "text/x-python",
      "name": "python",
      "nbconvert_exporter": "python",
      "pygments_lexer": "ipython3",
      "version": "3.6.9-final"
    },
    "colab": {
      "provenance": []
    }
  },
  "nbformat": 4,
  "nbformat_minor": 0
}